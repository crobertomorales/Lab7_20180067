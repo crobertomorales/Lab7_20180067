{
 "cells": [
  {
   "cell_type": "markdown",
   "id": "expected-talent",
   "metadata": {},
   "source": [
    "#  Lab 7 \n",
    "## 20180067"
   ]
  },
  {
   "cell_type": "code",
   "execution_count": 7,
   "id": "automotive-payday",
   "metadata": {},
   "outputs": [],
   "source": [
    "import pandas as pd\n",
    "import numpy as np\n",
    "import sklearn\n",
    "from sklearn import model_selection\n",
    "import matplotlib.pyplot as plt"
   ]
  },
  {
   "cell_type": "markdown",
   "id": "rough-sunday",
   "metadata": {},
   "source": [
    "Se realizó una matriz con los usuarios como observaciónes y en las columnas se ubican las peliculas que han sido calificadas. \n",
    "Se coloco 0 en todas aquellas peliculas que el usuario no ha calificado. "
   ]
  },
  {
   "cell_type": "code",
   "execution_count": 8,
   "id": "quantitative-surgery",
   "metadata": {},
   "outputs": [
    {
     "data": {
      "text/html": [
       "<div>\n",
       "<style scoped>\n",
       "    .dataframe tbody tr th:only-of-type {\n",
       "        vertical-align: middle;\n",
       "    }\n",
       "\n",
       "    .dataframe tbody tr th {\n",
       "        vertical-align: top;\n",
       "    }\n",
       "\n",
       "    .dataframe thead th {\n",
       "        text-align: right;\n",
       "    }\n",
       "</style>\n",
       "<table border=\"1\" class=\"dataframe\">\n",
       "  <thead>\n",
       "    <tr style=\"text-align: right;\">\n",
       "      <th></th>\n",
       "      <th>Usuario</th>\n",
       "      <th>2</th>\n",
       "      <th>3</th>\n",
       "      <th>5</th>\n",
       "      <th>6</th>\n",
       "      <th>11</th>\n",
       "      <th>12</th>\n",
       "      <th>13</th>\n",
       "      <th>14</th>\n",
       "      <th>15</th>\n",
       "      <th>...</th>\n",
       "      <th>134158</th>\n",
       "      <th>134368</th>\n",
       "      <th>134569</th>\n",
       "      <th>134881</th>\n",
       "      <th>135536</th>\n",
       "      <th>140174</th>\n",
       "      <th>142507</th>\n",
       "      <th>148652</th>\n",
       "      <th>158238</th>\n",
       "      <th>160718</th>\n",
       "    </tr>\n",
       "  </thead>\n",
       "  <tbody>\n",
       "    <tr>\n",
       "      <th>0</th>\n",
       "      <td>1</td>\n",
       "      <td>0.0</td>\n",
       "      <td>0.0</td>\n",
       "      <td>0.0</td>\n",
       "      <td>0.0</td>\n",
       "      <td>0.0</td>\n",
       "      <td>0.0</td>\n",
       "      <td>0.0</td>\n",
       "      <td>0.0</td>\n",
       "      <td>0.0</td>\n",
       "      <td>...</td>\n",
       "      <td>0.0</td>\n",
       "      <td>0.0</td>\n",
       "      <td>0.0</td>\n",
       "      <td>0</td>\n",
       "      <td>0</td>\n",
       "      <td>0.0</td>\n",
       "      <td>0</td>\n",
       "      <td>0.0</td>\n",
       "      <td>0.0</td>\n",
       "      <td>0</td>\n",
       "    </tr>\n",
       "    <tr>\n",
       "      <th>1</th>\n",
       "      <td>2</td>\n",
       "      <td>0.0</td>\n",
       "      <td>0.0</td>\n",
       "      <td>0.0</td>\n",
       "      <td>0.0</td>\n",
       "      <td>0.0</td>\n",
       "      <td>0.0</td>\n",
       "      <td>0.0</td>\n",
       "      <td>0.0</td>\n",
       "      <td>0.0</td>\n",
       "      <td>...</td>\n",
       "      <td>0.0</td>\n",
       "      <td>0.0</td>\n",
       "      <td>0.0</td>\n",
       "      <td>0</td>\n",
       "      <td>0</td>\n",
       "      <td>0.0</td>\n",
       "      <td>0</td>\n",
       "      <td>0.0</td>\n",
       "      <td>0.0</td>\n",
       "      <td>0</td>\n",
       "    </tr>\n",
       "    <tr>\n",
       "      <th>2</th>\n",
       "      <td>3</td>\n",
       "      <td>0.0</td>\n",
       "      <td>0.0</td>\n",
       "      <td>0.0</td>\n",
       "      <td>0.0</td>\n",
       "      <td>0.0</td>\n",
       "      <td>0.0</td>\n",
       "      <td>0.0</td>\n",
       "      <td>0.0</td>\n",
       "      <td>0.0</td>\n",
       "      <td>...</td>\n",
       "      <td>0.0</td>\n",
       "      <td>0.0</td>\n",
       "      <td>0.0</td>\n",
       "      <td>0</td>\n",
       "      <td>0</td>\n",
       "      <td>0.0</td>\n",
       "      <td>0</td>\n",
       "      <td>0.0</td>\n",
       "      <td>0.0</td>\n",
       "      <td>0</td>\n",
       "    </tr>\n",
       "    <tr>\n",
       "      <th>3</th>\n",
       "      <td>4</td>\n",
       "      <td>0.0</td>\n",
       "      <td>0.0</td>\n",
       "      <td>0.0</td>\n",
       "      <td>0.0</td>\n",
       "      <td>0.0</td>\n",
       "      <td>0.0</td>\n",
       "      <td>0.0</td>\n",
       "      <td>0.0</td>\n",
       "      <td>0.0</td>\n",
       "      <td>...</td>\n",
       "      <td>0.0</td>\n",
       "      <td>0.0</td>\n",
       "      <td>0.0</td>\n",
       "      <td>0</td>\n",
       "      <td>0</td>\n",
       "      <td>0.0</td>\n",
       "      <td>0</td>\n",
       "      <td>0.0</td>\n",
       "      <td>0.0</td>\n",
       "      <td>0</td>\n",
       "    </tr>\n",
       "    <tr>\n",
       "      <th>4</th>\n",
       "      <td>5</td>\n",
       "      <td>0.0</td>\n",
       "      <td>4.0</td>\n",
       "      <td>0.0</td>\n",
       "      <td>0.0</td>\n",
       "      <td>0.0</td>\n",
       "      <td>0.0</td>\n",
       "      <td>0.0</td>\n",
       "      <td>0.0</td>\n",
       "      <td>0.0</td>\n",
       "      <td>...</td>\n",
       "      <td>0.0</td>\n",
       "      <td>0.0</td>\n",
       "      <td>0.0</td>\n",
       "      <td>0</td>\n",
       "      <td>0</td>\n",
       "      <td>0.0</td>\n",
       "      <td>0</td>\n",
       "      <td>0.0</td>\n",
       "      <td>0.0</td>\n",
       "      <td>0</td>\n",
       "    </tr>\n",
       "  </tbody>\n",
       "</table>\n",
       "<p>5 rows × 2831 columns</p>\n",
       "</div>"
      ],
      "text/plain": [
       "   Usuario    2    3    5    6   11   12   13   14   15  ...  134158  134368  \\\n",
       "0        1  0.0  0.0  0.0  0.0  0.0  0.0  0.0  0.0  0.0  ...     0.0     0.0   \n",
       "1        2  0.0  0.0  0.0  0.0  0.0  0.0  0.0  0.0  0.0  ...     0.0     0.0   \n",
       "2        3  0.0  0.0  0.0  0.0  0.0  0.0  0.0  0.0  0.0  ...     0.0     0.0   \n",
       "3        4  0.0  0.0  0.0  0.0  0.0  0.0  0.0  0.0  0.0  ...     0.0     0.0   \n",
       "4        5  0.0  4.0  0.0  0.0  0.0  0.0  0.0  0.0  0.0  ...     0.0     0.0   \n",
       "\n",
       "   134569  134881  135536  140174  142507  148652  158238  160718  \n",
       "0     0.0       0       0     0.0       0     0.0     0.0       0  \n",
       "1     0.0       0       0     0.0       0     0.0     0.0       0  \n",
       "2     0.0       0       0     0.0       0     0.0     0.0       0  \n",
       "3     0.0       0       0     0.0       0     0.0     0.0       0  \n",
       "4     0.0       0       0     0.0       0     0.0     0.0       0  \n",
       "\n",
       "[5 rows x 2831 columns]"
      ]
     },
     "execution_count": 8,
     "metadata": {},
     "output_type": "execute_result"
    }
   ],
   "source": [
    "data = pd.read_csv('raitings_consolidados.csv')\n",
    "data.head(5)"
   ]
  },
  {
   "cell_type": "code",
   "execution_count": 14,
   "id": "referenced-sight",
   "metadata": {},
   "outputs": [
    {
     "name": "stdout",
     "output_type": "stream",
     "text": [
      "(671, 1)\n",
      "(671, 2831)\n"
     ]
    }
   ],
   "source": [
    "data = data.assign(v_1 = 1)\n",
    "Y = data[['Usuario']].to_numpy()\n",
    "Xo = data.to_numpy()\n",
    "Xo =  np.delete(Xo, 0, axis=1)\n",
    "print(Y.shape)\n",
    "print(Xo.shape)"
   ]
  },
  {
   "cell_type": "code",
   "execution_count": 16,
   "id": "likely-cooler",
   "metadata": {},
   "outputs": [
    {
     "name": "stdout",
     "output_type": "stream",
     "text": [
      "(402, 2831)\n",
      "(135, 2831)\n",
      "(134, 2831)\n",
      "(402, 1)\n",
      "(135, 1)\n",
      "(134, 1)\n"
     ]
    }
   ],
   "source": [
    "X_train, X_test, y_train, y_test = sklearn.model_selection.train_test_split(Xo, y, test_size=0.2, random_state=1)\n",
    "X_train, X_val, y_train, y_val = sklearn.model_selection.train_test_split(X_train, y_train, test_size=0.25, random_state=1)\n",
    "print(X_train.shape)\n",
    "print(X_test.shape)\n",
    "print(X_val.shape)\n",
    "print(y_train.shape)\n",
    "print(y_test.shape)\n",
    "print(y_val.shape)"
   ]
  },
  {
   "cell_type": "code",
   "execution_count": 17,
   "id": "personalized-reply",
   "metadata": {},
   "outputs": [],
   "source": [
    "def linear_cost(X, y, theta): \n",
    "    h = X @ theta\n",
    "    return ((y-h)**2).sum() / (2 * len(X))\n",
    "\n",
    "def linear_cost_gradient(X, y, theta): \n",
    "    h = X @ theta\n",
    "    return (X.T @ (h-y))/ len(X)"
   ]
  },
  {
   "cell_type": "code",
   "execution_count": 18,
   "id": "fluid-investor",
   "metadata": {},
   "outputs": [],
   "source": [
    "m, n = X_train.shape"
   ]
  },
  {
   "cell_type": "code",
   "execution_count": 19,
   "id": "regular-violence",
   "metadata": {},
   "outputs": [
    {
     "name": "stdout",
     "output_type": "stream",
     "text": [
      "(2831, 1)\n"
     ]
    }
   ],
   "source": [
    "theta_0 = np.random.rand(n,1)\n",
    "print(theta_0.shape)"
   ]
  },
  {
   "cell_type": "code",
   "execution_count": 20,
   "id": "vertical-married",
   "metadata": {},
   "outputs": [],
   "source": [
    "def gradient_descent(\n",
    "X,y,theta_0,linear_cost,linear_cost_gradient,\n",
    "    learning_rate = 0.000000001, threshold = 0.00001, max_iter=10000):\n",
    "    thetas = theta_0\n",
    "    iteration = 0 \n",
    "    costs = []\n",
    "    \n",
    "    while np.linalg.norm(linear_cost_gradient(X,y,thetas)) > threshold and iteration < max_iter:\n",
    "        iteration += 1 \n",
    "        thetas = thetas - (learning_rate * linear_cost_gradient(X,y,thetas))\n",
    "        costs.append(linear_cost(X,y,thetas))\n",
    "        \n",
    "    return thetas, costs"
   ]
  },
  {
   "cell_type": "code",
   "execution_count": 21,
   "id": "hairy-frank",
   "metadata": {},
   "outputs": [],
   "source": [
    "thetas, costs = gradient_descent(X_train,y_train,theta_0,linear_cost,linear_cost_gradient)"
   ]
  },
  {
   "cell_type": "code",
   "execution_count": 22,
   "id": "worse-stranger",
   "metadata": {},
   "outputs": [
    {
     "data": {
      "text/plain": [
       "[<matplotlib.lines.Line2D at 0x1ad45d5cd00>]"
      ]
     },
     "execution_count": 22,
     "metadata": {},
     "output_type": "execute_result"
    },
    {
     "data": {
      "image/png": "[encoded data removed]",
      "text/plain": [
       "<Figure size 432x288 with 1 Axes>"
      ]
     },
     "metadata": {
      "needs_background": "light"
     },
     "output_type": "display_data"
    }
   ],
   "source": [
    "plt.plot(costs)"
   ]
  },
  {
   "cell_type": "markdown",
   "id": "unlike-easter",
   "metadata": {},
   "source": [
    "### test"
   ]
  },
  {
   "cell_type": "code",
   "execution_count": 23,
   "id": "banned-spectacular",
   "metadata": {},
   "outputs": [],
   "source": [
    "thetas, costs = gradient_descent(X_test,y_test,theta_0,linear_cost,linear_cost_gradient)"
   ]
  },
  {
   "cell_type": "code",
   "execution_count": 24,
   "id": "aerial-tuning",
   "metadata": {},
   "outputs": [
    {
     "data": {
      "text/plain": [
       "[<matplotlib.lines.Line2D at 0x1ad45fa8100>]"
      ]
     },
     "execution_count": 24,
     "metadata": {},
     "output_type": "execute_result"
    },
    {
     "data": {
      "image/png": "[encoded data removed]",
      "text/plain": [
       "<Figure size 432x288 with 1 Axes>"
      ]
     },
     "metadata": {
      "needs_background": "light"
     },
     "output_type": "display_data"
    }
   ],
   "source": [
    "plt.plot(costs)"
   ]
  },
  {
   "cell_type": "markdown",
   "id": "selected-bottom",
   "metadata": {},
   "source": [
    "### validation"
   ]
  },
  {
   "cell_type": "code",
   "execution_count": 25,
   "id": "tired-potential",
   "metadata": {},
   "outputs": [],
   "source": [
    "thetas, costs = gradient_descent(X_val,y_val,theta_0,linear_cost,linear_cost_gradient)"
   ]
  },
  {
   "cell_type": "code",
   "execution_count": 26,
   "id": "upset-california",
   "metadata": {},
   "outputs": [
    {
     "data": {
      "text/plain": [
       "[<matplotlib.lines.Line2D at 0x1ad45f485b0>]"
      ]
     },
     "execution_count": 26,
     "metadata": {},
     "output_type": "execute_result"
    },
    {
     "data": {
      "image/png": "[encoded data removed]",
      "text/plain": [
       "<Figure size 432x288 with 1 Axes>"
      ]
     },
     "metadata": {
      "needs_background": "light"
     },
     "output_type": "display_data"
    }
   ],
   "source": [
    "plt.plot(costs)"
   ]
  },
  {
   "cell_type": "markdown",
   "id": "executed-sound",
   "metadata": {},
   "source": [
    "Se realizó la regresión múltiple para tratar de organizar y preedcir la forma en que los usuarios realizan las prediccións, y obtener los valores tetha correspondientes."
   ]
  },
  {
   "cell_type": "code",
   "execution_count": 32,
   "id": "ancient-decline",
   "metadata": {},
   "outputs": [],
   "source": [
    "def adam(\n",
    "        Y,\n",
    "        Xo,\n",
    "        To,\n",
    "        fun,\n",
    "        jac,\n",
    "        alpha=0.001,\n",
    "        beta1=0.9,\n",
    "        beta2=0.999,\n",
    "        epsilon=0.0000001,\n",
    "        max_iter=1000\n",
    "):\n",
    "    xm = cp.zeros(Xo.shape)\n",
    "    tm = cp.zeros(To.shape)\n",
    "\n",
    "    xv = cp.zeros(Xo.shape)\n",
    "    tv = cp.zeros(To.shape)\n",
    "\n",
    "    X, T, t = Xo, To, 0\n",
    "\n",
    "    while t < max_iter:\n",
    "        t += 1\n",
    "\n",
    "        xg, tg = jac(Y, X, T)\n",
    "\n",
    "        print(f'{t} \\t loss={fun(Y, X, T).item():,.2f}')\n",
    "\n",
    "        xm = beta1 * xm + (1 - beta1) * xg\n",
    "        tm = beta1 * tm + (1 - beta1) * tg\n",
    "\n",
    "        xv = beta2 * xv + (1 - beta2) * xg * xg\n",
    "        tv = beta2 * tv + (1 - beta2) * tg * tg\n",
    "\n",
    "        xmh = xm / (1 - beta1 ** t)\n",
    "        tmh = tm / (1 - beta1 ** t)\n",
    "\n",
    "        xvh = xv / (1 - beta2 ** t)\n",
    "        tvh = tv / (1 - beta2 ** t)\n",
    "\n",
    "        X -= alpha * xmh / (cp.sqrt(xvh) + epsilon)\n",
    "        T -= alpha * tmh / (cp.sqrt(tvh) + epsilon)\n",
    "\n",
    "    return X, T\n"
   ]
  },
  {
   "cell_type": "code",
   "execution_count": 34,
   "id": "assured-anchor",
   "metadata": {},
   "outputs": [],
   "source": [
    "#User , teth = adam(\n",
    "#        Y,\n",
    "#        X_val,\n",
    "#        thetas,\n",
    "#        gradient_descent,\n",
    "#        X_val,\n",
    "#        alpha=0.001,\n",
    "#        beta1=0.9,\n",
    "#        beta2=0.999,\n",
    "#        epsilon=0.0000001,\n",
    "#        max_iter=1000\n",
    "#)"
   ]
  },
  {
   "cell_type": "markdown",
   "id": "accomplished-serum",
   "metadata": {},
   "source": [
    "El valor del tetha de cada usuario corresponde al sistema de recomendación respectivo a este. Es decir que cada usuario recibirá la peliculas que usuarios similares a el hayan puntuado alto, por el método de Collaborative Filtering"
   ]
  }
 ],
 "metadata": {
  "kernelspec": {
   "display_name": "Python 3",
   "language": "python",
   "name": "python3"
  },
  "language_info": {
   "codemirror_mode": {
    "name": "ipython",
    "version": 3
   },
   "file_extension": ".py",
   "mimetype": "text/x-python",
   "name": "python",
   "nbconvert_exporter": "python",
   "pygments_lexer": "ipython3",
   "version": "3.9.1"
  }
 },
 "nbformat": 4,
 "nbformat_minor": 5
}
